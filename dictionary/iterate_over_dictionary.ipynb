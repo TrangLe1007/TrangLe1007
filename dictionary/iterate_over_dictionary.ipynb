{
 "cells": [
  {
   "cell_type": "code",
   "execution_count": 2,
   "metadata": {
    "collapsed": true
   },
   "outputs": [
    {
     "name": "stdout",
     "output_type": "stream",
     "text": [
      "1 le\n",
      "2 Thị\n",
      "3 Quỳnh\n",
      "4 Trang\n",
      "1 le\n",
      "2 Thị\n",
      "3 Quỳnh\n",
      "4 Trang\n"
     ]
    }
   ],
   "source": [
    "# Write a Python program to iterate over dictionaries using for loops.\r\n",
    "dic= {1: \"le\",\r\n",
    "2: \"Thị\",\r\n",
    "3: \"Quỳnh\",\r\n",
    "4: \"Trang\"}\r\n",
    "\r\n",
    "#solution 1\r\n",
    "for key, value in dic.items():\r\n",
    "    print(key, value)\r\n",
    "\r\n",
    "#Solution 2\r\n",
    "for key in dic:\r\n",
    "    print(key,dic[key])"
   ]
  }
 ],
 "metadata": {
  "interpreter": {
   "hash": "dcacb0086e9a4f4eabd41c33bf4faac5ea0a3337ed3f5eff0680afa930572c04"
  },
  "kernelspec": {
   "display_name": "Python 3.9.5 64-bit",
   "name": "python3"
  },
  "language_info": {
   "codemirror_mode": {
    "name": "ipython",
    "version": 3
   },
   "file_extension": ".py",
   "mimetype": "text/x-python",
   "name": "python",
   "nbconvert_exporter": "python",
   "pygments_lexer": "ipython3",
   "version": "3.8.8"
  }
 },
 "nbformat": 4,
 "nbformat_minor": 2
}