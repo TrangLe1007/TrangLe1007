{
 "cells": [
  {
   "cell_type": "code",
   "execution_count": 2,
   "metadata": {
    "collapsed": true
   },
   "outputs": [
    {
     "data": {
      "text/plain": [
       "{1: 1,\n",
       " 2: 4,\n",
       " 3: 9,\n",
       " 4: 16,\n",
       " 5: 25,\n",
       " 6: 36,\n",
       " 7: 49,\n",
       " 8: 64,\n",
       " 9: 81,\n",
       " 10: 100,\n",
       " 11: 121,\n",
       " 12: 144,\n",
       " 13: 169,\n",
       " 14: 196,\n",
       " 15: 225}"
      ]
     },
     "execution_count": 2,
     "metadata": {},
     "output_type": "execute_result"
    }
   ],
   "source": [
    "# Write a Python script to print a dictionary where the keys are numbers between 1 and 15 (both included) and the values are square of keys.\r\n",
    "dic ={}\r\n",
    "for x in range (1,16):\r\n",
    "    dic[x]= x**2\r\n",
    "dic\r\n",
    "    "
   ]
  }
 ],
 "metadata": {
  "kernelspec": {
   "display_name": "Python 3",
   "language": "python",
   "name": "python3"
  },
  "language_info": {
   "codemirror_mode": {
    "name": "ipython",
    "version": 3
   },
   "file_extension": ".py",
   "mimetype": "text/x-python",
   "name": "python",
   "nbconvert_exporter": "python",
   "pygments_lexer": "ipython3",
   "version": "3.6.1"
  }
 },
 "nbformat": 4,
 "nbformat_minor": 2
}