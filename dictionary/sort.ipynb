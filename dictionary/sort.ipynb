{
 "cells": [
  {
   "cell_type": "code",
   "execution_count": null,
   "metadata": {
    "collapsed": true
   },
   "outputs": [],
   "source": [
    "# Write a Python program to sort (ascending and descending) a dictionary by value.\n",
    "# Original dictionary :  {0: 0, 1: 2, 2: 1, 3: 4, 4: 3}                                                         \n",
    "# Dictionary in ascending order by value :  [(0, 0), (1, 2), (2, 1), (3, 4), (4, 3)]                            \n",
    "# Dictionary in descending order by value :  [(4, 3), (3, 4), (2, 1), (1, 2), (0, 0)]\n"
   ]
  },
  {
   "cell_type": "code",
   "execution_count": 4,
   "metadata": {},
   "outputs": [
    {
     "data": {
      "text/plain": [
       "[(5, 2), (4, 3), (3, 4), (2, 1), (0, 0)]"
      ]
     },
     "execution_count": 4,
     "metadata": {},
     "output_type": "execute_result"
    }
   ],
   "source": [
    "Original_dictionary =  {0: 0, 5: 2, 2: 1, 3: 4, 4: 3} \r\n",
    "lst=[]\r\n",
    "lst1=[]\r\n",
    "for key in sorted(Original_dictionary):\r\n",
    "    lst.append((key,Original_dictionary[key])) \r\n",
    "for key in sorted(Original_dictionary,reverse=True):\r\n",
    "    lst1.append((key,Original_dictionary[key]))\r\n",
    "lst\r\n",
    "lst1"
   ]
  }
 ],
 "metadata": {
  "interpreter": {
   "hash": "dcacb0086e9a4f4eabd41c33bf4faac5ea0a3337ed3f5eff0680afa930572c04"
  },
  "kernelspec": {
   "display_name": "Python 3.9.5 64-bit",
   "name": "python3"
  },
  "language_info": {
   "codemirror_mode": {
    "name": "ipython",
    "version": 3
   },
   "file_extension": ".py",
   "mimetype": "text/x-python",
   "name": "python",
   "nbconvert_exporter": "python",
   "pygments_lexer": "ipython3",
   "version": "3.8.8"
  }
 },
 "nbformat": 4,
 "nbformat_minor": 2
}