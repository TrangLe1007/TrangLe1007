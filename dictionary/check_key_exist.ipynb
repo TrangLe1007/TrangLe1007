{
 "cells": [
  {
   "cell_type": "code",
   "execution_count": null,
   "metadata": {
    "collapsed": true
   },
   "outputs": [],
   "source": [
    "# ---------------------------------------------------------------\n",
    "# python best courses https://courses.tanpham.org/\n",
    "# ---------------------------------------------------------------\n",
    "# Check if a given key already exists in a dictionary\n",
    "# input\n",
    "# d = {1: 10, 2: 20, 3: 30, 4: 40, 5: 50, 6: 60}\n",
    "# is_key_present(5)\n",
    "# is_key_present(9)\n",
    "# output\n",
    "# Key is present in the dictionary                                                                              \n",
    "# Key is not present in the dictionary"
   ]
  },
  {
   "cell_type": "code",
   "execution_count": 22,
   "metadata": {},
   "outputs": [
    {
     "name": "stdout",
     "output_type": "stream",
     "text": [
      "it is present in the directory\n"
     ]
    }
   ],
   "source": [
    "d = {1: 10, 2: 20, 3: 30, 4: 40, 5: 50, 6: 60}\r\n",
    "key = list(d.keys())\r\n",
    "key\r\n",
    "def is_key_present(y):\r\n",
    "    if y in key:\r\n",
    "        print(\"it is present in the directory\")\r\n",
    "    else:\r\n",
    "        print(\"it is not present in the directory\")\r\n",
    "\r\n",
    "is_key_present(5)"
   ]
  }
 ],
 "metadata": {
  "interpreter": {
   "hash": "dcacb0086e9a4f4eabd41c33bf4faac5ea0a3337ed3f5eff0680afa930572c04"
  },
  "kernelspec": {
   "display_name": "Python 3.9.5 64-bit",
   "name": "python3"
  },
  "language_info": {
   "codemirror_mode": {
    "name": "ipython",
    "version": 3
   },
   "file_extension": ".py",
   "mimetype": "text/x-python",
   "name": "python",
   "nbconvert_exporter": "python",
   "pygments_lexer": "ipython3",
   "version": "3.8.8"
  }
 },
 "nbformat": 4,
 "nbformat_minor": 2
}