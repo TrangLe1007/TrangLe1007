{
 "cells": [
  {
   "cell_type": "code",
   "execution_count": null,
   "metadata": {
    "collapsed": true
   },
   "outputs": [],
   "source": [
    "# Write a Python program to get the frequency of the elements in a list.\n",
    "# input\n",
    "# my_list = [10,10,10,10,20,20,20,20,40,40,50,50,30]\n",
    "# outout\n",
    "# {10: 4, 20: 4, 40: 2, 50: 2, 30: 1}\n"
   ]
  },
  {
   "cell_type": "code",
   "execution_count": 4,
   "metadata": {},
   "outputs": [
    {
     "name": "stdout",
     "output_type": "stream",
     "text": [
      "4\n",
      "4\n",
      "4\n",
      "4\n",
      "4\n",
      "4\n",
      "4\n",
      "4\n",
      "2\n",
      "2\n",
      "2\n",
      "2\n",
      "1\n",
      "10\n",
      "20\n",
      "40\n",
      "50\n",
      "30\n"
     ]
    }
   ],
   "source": [
    "my_list = [10,10,10,10,20,20,20,20,40,40,50,50,30]\r\n",
    "freq = {}\r\n",
    "for item in my_list:\r\n",
    "    if (item in freq):\r\n",
    "        freq[item] += 1\r\n",
    "    else:\r\n",
    "        freq[item] = 1\r\n",
    "freq\r\n",
    "\r\n",
    "#solution 2\r\n",
    "freq1 = {}\r\n",
    "for items in my_list:\r\n",
    "    freq1[items] = my_list.count(items)\r\n",
    "    print(my_list.count(items))\r\n",
    "freq1\r\n"
   ]
  }
 ],
 "metadata": {
  "interpreter": {
   "hash": "dcacb0086e9a4f4eabd41c33bf4faac5ea0a3337ed3f5eff0680afa930572c04"
  },
  "kernelspec": {
   "display_name": "Python 3.9.5 64-bit",
   "name": "python3"
  },
  "language_info": {
   "codemirror_mode": {
    "name": "ipython",
    "version": 3
   },
   "file_extension": ".py",
   "mimetype": "text/x-python",
   "name": "python",
   "nbconvert_exporter": "python",
   "pygments_lexer": "ipython3",
   "version": "3.8.8"
  }
 },
 "nbformat": 4,
 "nbformat_minor": 2
}