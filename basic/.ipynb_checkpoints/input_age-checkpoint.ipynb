{
 "cells": [
  {
   "cell_type": "code",
   "execution_count": 1,
   "metadata": {},
   "outputs": [
    {
     "name": "stdout",
     "output_type": "stream",
     "text": [
      "what is your name?trang\n",
      "how old are you?23\n",
      "trang is 23 years old in 2021. I will be 100 years old in 2098\n"
     ]
    }
   ],
   "source": [
    "# ---------------------------------------------------------------\n",
    "# ---------------------------------------------------------------\n",
    "# Create a program that asks the user to enter their name and their age.\n",
    "# Print out a message addressed to them that tells them the year that they will turn 100 years old.\n",
    "\n",
    "\n",
    "name= input(\"what is your name?\")\n",
    "age=int(input(\"how old are you?\"))\n",
    "year_100= 2021 - age + 100\n",
    "print(\"{} is {} years old in 2021. I will be 100 years old in {}\".format(name,age,year_100))"
   ]
  }
 ],
 "metadata": {
  "kernelspec": {
   "display_name": "Python 3",
   "language": "python",
   "name": "python3"
  },
  "language_info": {
   "codemirror_mode": {
    "name": "ipython",
    "version": 3
   },
   "file_extension": ".py",
   "mimetype": "text/x-python",
   "name": "python",
   "nbconvert_exporter": "python",
   "pygments_lexer": "ipython3",
   "version": "3.8.8"
  }
 },
 "nbformat": 4,
 "nbformat_minor": 2
}
