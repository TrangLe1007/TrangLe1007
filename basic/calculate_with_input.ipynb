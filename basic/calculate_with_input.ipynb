{
 "cells": [
  {
   "cell_type": "code",
   "execution_count": 12,
   "metadata": {},
   "outputs": [
    {
     "name": "stdout",
     "output_type": "stream",
     "text": [
      "please enter an integer number5\n",
      "615\n"
     ]
    }
   ],
   "source": [
    "# ---------------------------------------------------------------\n",
    "\n",
    "# ---------------------------------------------------------------\n",
    "# Write a Python program that accepts an integer (n) and computes the value of n+nn+nnn. Go to the editor\n",
    "# Sample value of n is 5 \n",
    "# Expected Result : 615\n",
    "\n",
    "n=int(input(\"please enter an integer number\"))\n",
    "n1=int(\"{}\".format(n))\n",
    "n2=int(\"{}{}\".format(n,n))\n",
    "n3=int(\"%d%d%d\" % (n,n,n)) #%s is used for string. %d is replaced for integer\n",
    "result=n1+n2+n3\n",
    "print(result)"
   ]
  },
  {
   "cell_type": "code",
   "execution_count": null,
   "metadata": {},
   "outputs": [],
   "source": []
  }
 ],
 "metadata": {
  "kernelspec": {
   "display_name": "Python 3",
   "language": "python",
   "name": "python3"
  },
  "language_info": {
   "codemirror_mode": {
    "name": "ipython",
    "version": 3
   },
   "file_extension": ".py",
   "mimetype": "text/x-python",
   "name": "python",
   "nbconvert_exporter": "python",
   "pygments_lexer": "ipython3",
   "version": "3.8.8"
  }
 },
 "nbformat": 4,
 "nbformat_minor": 2
}
