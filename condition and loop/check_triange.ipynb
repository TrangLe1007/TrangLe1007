{
 "cells": [
  {
   "cell_type": "code",
   "execution_count": 2,
   "metadata": {},
   "outputs": [
    {
     "name": "stdout",
     "output_type": "stream",
     "text": [
      "Please enter the length of the first line1\n",
      "Please enter the length of the second line2\n",
      "Please enter the length of the third line3\n",
      "It is not able to become a tringale\n"
     ]
    }
   ],
   "source": [
    "# ---------------------------------------------------------------\n",
    "\n",
    "# ---------------------------------------------------------------\n",
    "# Write a Python program to check a triangle is valid or not\n",
    "line1=int(input(\"Please enter the length of the first line\"))\n",
    "line2=int(input(\"Please enter the length of the second line\"))\n",
    "line3=int(input(\"Please enter the length of the third line\"))\n",
    "\n",
    "def check_triangle(x,y,z):\n",
    "    if x>y+z or y>x+z or z>y+x:\n",
    "        print(\"It is able to become a triangle\")\n",
    "    else:\n",
    "        print(\"It is not able to become a tringale\")\n",
    "check_triangle(line1,line2,line3)\n"
   ]
  }
 ],
 "metadata": {
  "kernelspec": {
   "display_name": "Python 3",
   "language": "python",
   "name": "python3"
  },
  "language_info": {
   "codemirror_mode": {
    "name": "ipython",
    "version": 3
   },
   "file_extension": ".py",
   "mimetype": "text/x-python",
   "name": "python",
   "nbconvert_exporter": "python",
   "pygments_lexer": "ipython3",
   "version": "3.8.8"
  }
 },
 "nbformat": 4,
 "nbformat_minor": 2
}
