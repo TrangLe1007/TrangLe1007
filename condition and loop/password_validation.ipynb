{
 "cells": [
  {
   "cell_type": "code",
   "execution_count": null,
   "metadata": {
    "collapsed": true
   },
   "outputs": [],
   "source": [
    "# Write a Python program to check the validity of a password (input from users).\n",
    "\n",
    "# Validation :\n",
    "\n",
    "# At least 1 letter between [a-z] and 1 letter between [A-Z].\n",
    "# At least 1 number between [0-9].\n",
    "# At least 1 character from [$#@].\n",
    "# Minimum length 6 characters.\n",
    "# Maximum length 16 characters.\n",
    "\n",
    "# Input\n",
    "# W3r@100a\n",
    "# Output\n",
    "# Valid password"
   ]
  },
  {
   "cell_type": "code",
   "execution_count": 1,
   "metadata": {},
   "outputs": [
    {
     "ename": "SyntaxError",
     "evalue": "invalid syntax (<ipython-input-1-8db4fd286e9d>, line 15)",
     "output_type": "error",
     "traceback": [
      "\u001b[1;36m  File \u001b[1;32m\"<ipython-input-1-8db4fd286e9d>\"\u001b[1;36m, line \u001b[1;32m15\u001b[0m\n\u001b[1;33m    elif re.search(\"\\s\",p)w:\u001b[0m\n\u001b[1;37m                          ^\u001b[0m\n\u001b[1;31mSyntaxError\u001b[0m\u001b[1;31m:\u001b[0m invalid syntax\n"
     ]
    }
   ],
   "source": [
    "import re\r\n",
    "pw= input(\"Input your password\")\r\n",
    "x=True\r\n",
    "while x:  \r\n",
    "    if (len(pw)<6 or len(pw)>12):\r\n",
    "        break\r\n",
    "    elif not re.search(\"[a-z]\",pw):\r\n",
    "        break\r\n",
    "    elif not re.search(\"[0-9]\",pw):\r\n",
    "        break\r\n",
    "    elif not re.search(\"[A-Z]\",pw):\r\n",
    "        break\r\n",
    "    elif not re.search(\"[$#@]\",pw):\r\n",
    "        break\r\n",
    "    elif re.search(\"\\s\",p)w:\r\n",
    "        break\r\n",
    "    else:\r\n",
    "        print(\"Valid Password\")\r\n",
    "        x=False\r\n",
    "        break\r\n",
    "if x:\r\n",
    "    print(\"Invalid password\")"
   ]
  },
  {
   "cell_type": "code",
   "execution_count": null,
   "metadata": {},
   "outputs": [],
   "source": []
  }
 ],
 "metadata": {
  "interpreter": {
   "hash": "dcacb0086e9a4f4eabd41c33bf4faac5ea0a3337ed3f5eff0680afa930572c04"
  },
  "kernelspec": {
   "display_name": "Python 3.9.5 64-bit",
   "name": "python3"
  },
  "language_info": {
   "codemirror_mode": {
    "name": "ipython",
    "version": 3
   },
   "file_extension": ".py",
   "mimetype": "text/x-python",
   "name": "python",
   "nbconvert_exporter": "python",
   "pygments_lexer": "ipython3",
   "version": "3.9.5"
  }
 },
 "nbformat": 4,
 "nbformat_minor": 2
}