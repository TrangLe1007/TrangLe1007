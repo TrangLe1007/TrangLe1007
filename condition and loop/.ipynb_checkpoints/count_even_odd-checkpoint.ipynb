{
 "cells": [
  {
   "cell_type": "code",
   "execution_count": null,
   "metadata": {
    "collapsed": true
   },
   "outputs": [],
   "source": [
    "# Count the number of even and odd numbers from a series of numbers\n",
    "# Input \n",
    "# numbers = (1, 2, 3, 4, 5, 6, 7, 8, 9) # Declaring the tuple\n",
    "# Output\n",
    "# Number of even numbers : 4                                                                                    \n",
    "# Number of odd numbers : 5 "
   ]
  },
  {
   "cell_type": "code",
   "execution_count": 12,
   "metadata": {},
   "outputs": [
    {
     "name": "stdout",
     "output_type": "stream",
     "text": [
      "Please enter the number1\n",
      "Please enter the number2\n",
      "Please enter the number3\n",
      "Please enter the number4\n",
      "Please enter the number5\n",
      "Please enter the number6\n",
      "Please enter the number7\n",
      "Please enter the number8\n",
      "Please enter the number9\n",
      "(1, 2, 3, 4, 5, 6, 7, 8, 9)\n",
      "4\n",
      "5\n"
     ]
    }
   ],
   "source": [
    "numbers=[]\n",
    "for i in range (9):\n",
    "    ele= int(input(\"Please enter the number\"))\n",
    "    numbers.append(ele)\n",
    "    \n",
    "print(tuple(numbers))  \n",
    "tup=tuple(numbers)\n",
    "even=odd=0\n",
    "\n",
    "for i in tup:\n",
    "    if i%2==0:\n",
    "        even+=1\n",
    "    else:\n",
    "        odd+=1\n",
    "print(even)\n",
    "print(odd)"
   ]
  },
  {
   "cell_type": "code",
   "execution_count": null,
   "metadata": {},
   "outputs": [],
   "source": []
  }
 ],
 "metadata": {
  "kernelspec": {
   "display_name": "Python 3",
   "language": "python",
   "name": "python3"
  },
  "language_info": {
   "codemirror_mode": {
    "name": "ipython",
    "version": 3
   },
   "file_extension": ".py",
   "mimetype": "text/x-python",
   "name": "python",
   "nbconvert_exporter": "python",
   "pygments_lexer": "ipython3",
   "version": "3.8.8"
  }
 },
 "nbformat": 4,
 "nbformat_minor": 2
}
