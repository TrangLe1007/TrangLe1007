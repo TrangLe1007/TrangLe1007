{
 "cells": [
  {
   "cell_type": "code",
   "execution_count": null,
   "metadata": {
    "collapsed": true
   },
   "outputs": [],
   "source": [
    "# ---------------------------------------------------------------\n",
    "\n",
    "# ---------------------------------------------------------------\n",
    "# Write a Python program which takes two digits m (row) and n (column) as input and generates a two-dimensional array. \n",
    "# The element value in the i-th row and j-th column of the array should be i*j.\n",
    "# Note :\n",
    "# i = 0,1.., m-1 \n",
    "# j = 0,1, n-1.\n",
    "\n",
    "# Input\n",
    "# Input number of rows: 3                                                                                       \n",
    "# Input number of columns: 4  \n",
    "\n",
    "# Output\n",
    "# [[0, 0, 0, 0], [0, 1, 2, 3], [0, 2, 4, 6]] "
   ]
  },
  {
   "cell_type": "code",
   "execution_count": 28,
   "metadata": {},
   "outputs": [
    {
     "name": "stdout",
     "output_type": "stream",
     "text": [
      "please enter the number of rows:3\n",
      "please enter the number of columns:4\n"
     ]
    },
    {
     "data": {
      "text/plain": [
       "[[0, 0, 0, 0], [0, 0, 0, 0], [0, 0, 0, 0]]"
      ]
     },
     "execution_count": 28,
     "metadata": {},
     "output_type": "execute_result"
    }
   ],
   "source": [
    "#row\n",
    "m=int(input(\"please enter the number of rows:\"))\n",
    "#column\n",
    "n=int(input(\"please enter the number of columns:\"))\n",
    "\n",
    "#lst = [[0 for col in range(n)]  for row in range(m) ]\n",
    "#lst = [[0] * n for i in range(m)]\n",
    "\n",
    "lst = []\n",
    "for i in range(m):\n",
    "    lst.append([0] * n)\n",
    "lst\n"
   ]
  },
  {
   "cell_type": "code",
   "execution_count": 29,
   "metadata": {},
   "outputs": [
    {
     "name": "stdout",
     "output_type": "stream",
     "text": [
      "[[0, 0, 0, 0], [0, 1, 2, 3], [0, 2, 4, 6]]\n"
     ]
    }
   ],
   "source": [
    "for row in range(m):\n",
    "    for col in range(n):\n",
    "        lst[row][col]= row*col\n",
    "\n",
    "print(lst)"
   ]
  },
  {
   "cell_type": "code",
   "execution_count": 33,
   "metadata": {},
   "outputs": [
    {
     "name": "stdout",
     "output_type": "stream",
     "text": [
      "[[0, 0, 0, 0], [0, 1, 2, 3], [0, 2, 4, 6]]\n"
     ]
    }
   ],
   "source": [
    "multiplication_table = [[x * y for y in range(4)] for x in range(3)] \n",
    "print(multiplication_table)\n"
   ]
  },
  {
   "cell_type": "code",
   "execution_count": null,
   "metadata": {},
   "outputs": [],
   "source": []
  }
 ],
 "metadata": {
  "kernelspec": {
   "display_name": "Python 3",
   "language": "python",
   "name": "python3"
  },
  "language_info": {
   "codemirror_mode": {
    "name": "ipython",
    "version": 3
   },
   "file_extension": ".py",
   "mimetype": "text/x-python",
   "name": "python",
   "nbconvert_exporter": "python",
   "pygments_lexer": "ipython3",
   "version": "3.8.8"
  }
 },
 "nbformat": 4,
 "nbformat_minor": 2
}
